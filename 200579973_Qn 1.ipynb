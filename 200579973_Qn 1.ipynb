{
 "cells": [
  {
   "cell_type": "code",
   "execution_count": 1,
   "id": "6e2690e0",
   "metadata": {},
   "outputs": [],
   "source": [
    "# Load the necessary libraries\n",
    "import pandas as pd #using \"pandas\" package to clean up and manipulate data \n",
    "import numpy as np\n",
    "import matplotlib.pyplot as plt #to plot a bar graph \n",
    "import seaborn as sns\n",
    "import os"
   ]
  },
  {
   "cell_type": "code",
   "execution_count": 2,
   "id": "12c4bb46",
   "metadata": {},
   "outputs": [
    {
     "data": {
      "text/plain": [
       "'/Users/sugianto/Desktop/dataverse_files'"
      ]
     },
     "execution_count": 2,
     "metadata": {},
     "output_type": "execute_result"
    }
   ],
   "source": [
    "# Set working directory that contains the files\n",
    "os.chdir(\"/Users/sugianto/Desktop/dataverse_files\")\n",
    "os.getcwd()"
   ]
  },
  {
   "cell_type": "code",
   "execution_count": 3,
   "id": "0c72a8f9",
   "metadata": {},
   "outputs": [],
   "source": [
    "#read data\n",
    "data1 = pd.read_csv(\"2004.csv\") #import data for year 2004\n",
    "data2 = pd.read_csv(\"2005.csv\") #import data for year 2005\n",
    "\n",
    "airports = pd.read_csv(\"airports.csv\")\n",
    "carriers = pd.read_csv(\"carriers.csv\")\n",
    "airplanes = pd.read_csv(\"plane-data.csv\")\n"
   ]
  },
  {
   "cell_type": "code",
   "execution_count": 4,
   "id": "6bfe99ff",
   "metadata": {},
   "outputs": [],
   "source": [
    "#Datas without cancelled and diverted flights.\n",
    "data1 = data1[(data1.Cancelled == 0) & (data1.Diverted == 0)]\n",
    "data2 = data2[(data2.Cancelled == 0) & (data2.Diverted == 0)]"
   ]
  },
  {
   "cell_type": "code",
   "execution_count": 5,
   "id": "83b61744",
   "metadata": {},
   "outputs": [
    {
     "name": "stdout",
     "output_type": "stream",
     "text": [
      "6987729\n",
      "6992838\n"
     ]
    }
   ],
   "source": [
    "#Look for Dataset sizes \n",
    "print(len(data1))\n",
    "print(len(data2))"
   ]
  },
  {
   "cell_type": "code",
   "execution_count": 6,
   "id": "e82a4bae",
   "metadata": {},
   "outputs": [
    {
     "name": "stdout",
     "output_type": "stream",
     "text": [
      "(6987729, 29)\n",
      "(6992838, 29)\n"
     ]
    }
   ],
   "source": [
    "#see and compare data shape\n",
    "print(data1.shape) #year 2004\n",
    "print(data2.shape) #year 2005"
   ]
  },
  {
   "cell_type": "code",
   "execution_count": 7,
   "id": "cc5ac63e",
   "metadata": {},
   "outputs": [
    {
     "name": "stdout",
     "output_type": "stream",
     "text": [
      "Year                       0\n",
      "Month                      0\n",
      "DayofMonth                 0\n",
      "DayOfWeek                  0\n",
      "DepTime                    0\n",
      "CRSDepTime                 0\n",
      "ArrTime                    0\n",
      "CRSArrTime                 0\n",
      "UniqueCarrier              0\n",
      "FlightNum                  0\n",
      "TailNum                    0\n",
      "ActualElapsedTime          0\n",
      "CRSElapsedTime             0\n",
      "AirTime                    0\n",
      "ArrDelay                   0\n",
      "DepDelay                   0\n",
      "Origin                     0\n",
      "Dest                       0\n",
      "Distance                   0\n",
      "TaxiIn                     0\n",
      "TaxiOut                    0\n",
      "Cancelled                  0\n",
      "CancellationCode     6987722\n",
      "Diverted                   0\n",
      "CarrierDelay               0\n",
      "WeatherDelay               0\n",
      "NASDelay                   0\n",
      "SecurityDelay              0\n",
      "LateAircraftDelay          0\n",
      "dtype: int64\n",
      "Year                       0\n",
      "Month                      0\n",
      "DayofMonth                 0\n",
      "DayOfWeek                  0\n",
      "DepTime                    0\n",
      "CRSDepTime                 0\n",
      "ArrTime                    0\n",
      "CRSArrTime                 0\n",
      "UniqueCarrier              0\n",
      "FlightNum                  0\n",
      "TailNum                    0\n",
      "ActualElapsedTime          0\n",
      "CRSElapsedTime             0\n",
      "AirTime                    0\n",
      "ArrDelay                   0\n",
      "DepDelay                   0\n",
      "Origin                     0\n",
      "Dest                       0\n",
      "Distance                   0\n",
      "TaxiIn                     0\n",
      "TaxiOut                    0\n",
      "Cancelled                  0\n",
      "CancellationCode     6992837\n",
      "Diverted                   0\n",
      "CarrierDelay               0\n",
      "WeatherDelay               0\n",
      "NASDelay                   0\n",
      "SecurityDelay              0\n",
      "LateAircraftDelay          0\n",
      "dtype: int64\n"
     ]
    }
   ],
   "source": [
    "#check for NA's in 2004 and 2005\n",
    "print(data1.isna().sum())\n",
    "print(data2.isna().sum())"
   ]
  },
  {
   "cell_type": "code",
   "execution_count": 8,
   "id": "ea34c56a",
   "metadata": {},
   "outputs": [],
   "source": [
    "# perform full join on data1 and data2\n",
    "data = pd.merge(data1, data2, how='outer')"
   ]
  },
  {
   "cell_type": "code",
   "execution_count": 9,
   "id": "13c20e3f",
   "metadata": {},
   "outputs": [
    {
     "data": {
      "text/html": [
       "<div>\n",
       "<style scoped>\n",
       "    .dataframe tbody tr th:only-of-type {\n",
       "        vertical-align: middle;\n",
       "    }\n",
       "\n",
       "    .dataframe tbody tr th {\n",
       "        vertical-align: top;\n",
       "    }\n",
       "\n",
       "    .dataframe thead th {\n",
       "        text-align: right;\n",
       "    }\n",
       "</style>\n",
       "<table border=\"1\" class=\"dataframe\">\n",
       "  <thead>\n",
       "    <tr style=\"text-align: right;\">\n",
       "      <th></th>\n",
       "      <th>Year</th>\n",
       "      <th>Month</th>\n",
       "      <th>DayofMonth</th>\n",
       "      <th>DayOfWeek</th>\n",
       "      <th>DepTime</th>\n",
       "      <th>CRSDepTime</th>\n",
       "      <th>ArrTime</th>\n",
       "      <th>CRSArrTime</th>\n",
       "      <th>UniqueCarrier</th>\n",
       "      <th>FlightNum</th>\n",
       "      <th>...</th>\n",
       "      <th>TaxiIn</th>\n",
       "      <th>TaxiOut</th>\n",
       "      <th>Cancelled</th>\n",
       "      <th>CancellationCode</th>\n",
       "      <th>Diverted</th>\n",
       "      <th>CarrierDelay</th>\n",
       "      <th>WeatherDelay</th>\n",
       "      <th>NASDelay</th>\n",
       "      <th>SecurityDelay</th>\n",
       "      <th>LateAircraftDelay</th>\n",
       "    </tr>\n",
       "  </thead>\n",
       "  <tbody>\n",
       "    <tr>\n",
       "      <th>0</th>\n",
       "      <td>2004</td>\n",
       "      <td>1</td>\n",
       "      <td>12</td>\n",
       "      <td>1</td>\n",
       "      <td>623.0</td>\n",
       "      <td>630</td>\n",
       "      <td>901.0</td>\n",
       "      <td>915</td>\n",
       "      <td>UA</td>\n",
       "      <td>462</td>\n",
       "      <td>...</td>\n",
       "      <td>7</td>\n",
       "      <td>11</td>\n",
       "      <td>0</td>\n",
       "      <td>NaN</td>\n",
       "      <td>0</td>\n",
       "      <td>0</td>\n",
       "      <td>0</td>\n",
       "      <td>0</td>\n",
       "      <td>0</td>\n",
       "      <td>0</td>\n",
       "    </tr>\n",
       "    <tr>\n",
       "      <th>1</th>\n",
       "      <td>2004</td>\n",
       "      <td>1</td>\n",
       "      <td>13</td>\n",
       "      <td>2</td>\n",
       "      <td>621.0</td>\n",
       "      <td>630</td>\n",
       "      <td>911.0</td>\n",
       "      <td>915</td>\n",
       "      <td>UA</td>\n",
       "      <td>462</td>\n",
       "      <td>...</td>\n",
       "      <td>16</td>\n",
       "      <td>16</td>\n",
       "      <td>0</td>\n",
       "      <td>NaN</td>\n",
       "      <td>0</td>\n",
       "      <td>0</td>\n",
       "      <td>0</td>\n",
       "      <td>0</td>\n",
       "      <td>0</td>\n",
       "      <td>0</td>\n",
       "    </tr>\n",
       "    <tr>\n",
       "      <th>2</th>\n",
       "      <td>2004</td>\n",
       "      <td>1</td>\n",
       "      <td>14</td>\n",
       "      <td>3</td>\n",
       "      <td>633.0</td>\n",
       "      <td>630</td>\n",
       "      <td>920.0</td>\n",
       "      <td>915</td>\n",
       "      <td>UA</td>\n",
       "      <td>462</td>\n",
       "      <td>...</td>\n",
       "      <td>4</td>\n",
       "      <td>15</td>\n",
       "      <td>0</td>\n",
       "      <td>NaN</td>\n",
       "      <td>0</td>\n",
       "      <td>0</td>\n",
       "      <td>0</td>\n",
       "      <td>0</td>\n",
       "      <td>0</td>\n",
       "      <td>0</td>\n",
       "    </tr>\n",
       "    <tr>\n",
       "      <th>3</th>\n",
       "      <td>2004</td>\n",
       "      <td>1</td>\n",
       "      <td>15</td>\n",
       "      <td>4</td>\n",
       "      <td>627.0</td>\n",
       "      <td>630</td>\n",
       "      <td>859.0</td>\n",
       "      <td>915</td>\n",
       "      <td>UA</td>\n",
       "      <td>462</td>\n",
       "      <td>...</td>\n",
       "      <td>4</td>\n",
       "      <td>10</td>\n",
       "      <td>0</td>\n",
       "      <td>NaN</td>\n",
       "      <td>0</td>\n",
       "      <td>0</td>\n",
       "      <td>0</td>\n",
       "      <td>0</td>\n",
       "      <td>0</td>\n",
       "      <td>0</td>\n",
       "    </tr>\n",
       "    <tr>\n",
       "      <th>4</th>\n",
       "      <td>2004</td>\n",
       "      <td>1</td>\n",
       "      <td>16</td>\n",
       "      <td>5</td>\n",
       "      <td>635.0</td>\n",
       "      <td>630</td>\n",
       "      <td>918.0</td>\n",
       "      <td>915</td>\n",
       "      <td>UA</td>\n",
       "      <td>462</td>\n",
       "      <td>...</td>\n",
       "      <td>3</td>\n",
       "      <td>13</td>\n",
       "      <td>0</td>\n",
       "      <td>NaN</td>\n",
       "      <td>0</td>\n",
       "      <td>0</td>\n",
       "      <td>0</td>\n",
       "      <td>0</td>\n",
       "      <td>0</td>\n",
       "      <td>0</td>\n",
       "    </tr>\n",
       "  </tbody>\n",
       "</table>\n",
       "<p>5 rows × 29 columns</p>\n",
       "</div>"
      ],
      "text/plain": [
       "   Year  Month  DayofMonth  DayOfWeek  DepTime  CRSDepTime  ArrTime  \\\n",
       "0  2004      1          12          1    623.0         630    901.0   \n",
       "1  2004      1          13          2    621.0         630    911.0   \n",
       "2  2004      1          14          3    633.0         630    920.0   \n",
       "3  2004      1          15          4    627.0         630    859.0   \n",
       "4  2004      1          16          5    635.0         630    918.0   \n",
       "\n",
       "   CRSArrTime UniqueCarrier  FlightNum  ... TaxiIn  TaxiOut  Cancelled  \\\n",
       "0         915            UA        462  ...      7       11          0   \n",
       "1         915            UA        462  ...     16       16          0   \n",
       "2         915            UA        462  ...      4       15          0   \n",
       "3         915            UA        462  ...      4       10          0   \n",
       "4         915            UA        462  ...      3       13          0   \n",
       "\n",
       "   CancellationCode  Diverted  CarrierDelay WeatherDelay NASDelay  \\\n",
       "0               NaN         0             0            0        0   \n",
       "1               NaN         0             0            0        0   \n",
       "2               NaN         0             0            0        0   \n",
       "3               NaN         0             0            0        0   \n",
       "4               NaN         0             0            0        0   \n",
       "\n",
       "   SecurityDelay  LateAircraftDelay  \n",
       "0              0                  0  \n",
       "1              0                  0  \n",
       "2              0                  0  \n",
       "3              0                  0  \n",
       "4              0                  0  \n",
       "\n",
       "[5 rows x 29 columns]"
      ]
     },
     "execution_count": 9,
     "metadata": {},
     "output_type": "execute_result"
    }
   ],
   "source": [
    "#explore the data\n",
    "data.head()"
   ]
  },
  {
   "cell_type": "code",
   "execution_count": 10,
   "id": "68b0d33f",
   "metadata": {},
   "outputs": [],
   "source": [
    "#Create delay column\n",
    "data['delay'] = ((data['DepDelay'])+(data['ArrDelay']))"
   ]
  },
  {
   "cell_type": "code",
   "execution_count": 11,
   "id": "29170f51",
   "metadata": {},
   "outputs": [],
   "source": [
    "# Look for missing values\n",
    "data.isna().sum()\n",
    "\n",
    "# Remove rows where Cancelled and Diverted columns are equal to 0 for DepDelay and ArrDelay columns\n",
    "data = data[(data['Cancelled'] == 0) & (data['Diverted'] == 0) & (~data['DepDelay'].isna()) & (~data['ArrDelay'].isna())]"
   ]
  },
  {
   "cell_type": "markdown",
   "id": "f230754f",
   "metadata": {},
   "source": [
    "# 1a. When is the best day of the week to fly to minimise delays?"
   ]
  },
  {
   "cell_type": "code",
   "execution_count": 12,
   "id": "2c935939",
   "metadata": {},
   "outputs": [],
   "source": [
    "import calendar\n",
    "\n",
    "# Convert Month column to month names\n",
    "data['Month_name'] = data['Month'].apply(lambda x: calendar.month_abbr[x])\n",
    "\n",
    "# Convert DayOfWeek column to weekday names\n",
    "data['DayOfWeek'] = data['DayOfWeek'].replace({\n",
    "    1: 'Monday',\n",
    "    2: 'Tuesday',\n",
    "    3: 'Wednesday',\n",
    "    4: 'Thursday',\n",
    "    5: 'Friday',\n",
    "    6: 'Saturday',\n",
    "    7: 'Sunday'\n",
    "})"
   ]
  },
  {
   "cell_type": "code",
   "execution_count": 13,
   "id": "9f4799ae",
   "metadata": {},
   "outputs": [],
   "source": [
    "# Select columns and group by DayOfWeek, then calculate mean DepDelay and ArrDelay\n",
    "mean_day = data[['DayOfWeek', 'DepDelay', 'ArrDelay']].groupby('DayOfWeek').mean().reset_index()\n",
    "mean_day = mean_day.rename(columns={'DepDelay': 'Dep_del', 'ArrDelay': 'Arr_del'})\n",
    "\n",
    "# Create new columns in DataFrame\n",
    "mean_day['avg_delay_day'] = (mean_day['Dep_del'] + mean_day['Arr_del']) / 2\n",
    "mean_day['total_avg_delay_day'] = mean_day['Dep_del'] + mean_day['Arr_del']\n",
    "\n",
    "# Group by total_avg_delay_day and arrange by total_avg_delay_day\n",
    "mean_day = mean_day.groupby('total_avg_delay_day').apply(lambda x: x.sort_values('total_avg_delay_day')).reset_index(drop=True)\n"
   ]
  },
  {
   "cell_type": "code",
   "execution_count": 14,
   "id": "e9e7680a",
   "metadata": {},
   "outputs": [
    {
     "data": {
      "image/png": "[encoded data removed]",
      "text/plain": [
       "<Figure size 576x432 with 1 Axes>"
      ]
     },
     "metadata": {
      "needs_background": "light"
     },
     "output_type": "display_data"
    }
   ],
   "source": [
    "# Select DayOfWeek and avg_delay_day columns, group by DayOfWeek, and arrange by avg_delay_day\n",
    "plot_mean_day = mean_day[['DayOfWeek', 'avg_delay_day']].groupby('DayOfWeek').mean().reset_index()\n",
    "plot_mean_day = plot_mean_day.sort_values('avg_delay_day')\n",
    "\n",
    "# Create bar plot\n",
    "plt.figure(figsize=(8, 6))\n",
    "sns.barplot(x='DayOfWeek', y='avg_delay_day', data=plot_mean_day, palette='bright')\n",
    "plt.xlabel('Day of Week')\n",
    "plt.ylabel('Avg Delay (min)')\n",
    "plt.title('Average Delay of Weekdays')\n",
    "plt.xticks(rotation=35, ha='right')\n",
    "plt.show()"
   ]
  },
  {
   "cell_type": "code",
   "execution_count": 15,
   "id": "bc28ecb4",
   "metadata": {},
   "outputs": [
    {
     "data": {
      "text/html": [
       "<div>\n",
       "<style scoped>\n",
       "    .dataframe tbody tr th:only-of-type {\n",
       "        vertical-align: middle;\n",
       "    }\n",
       "\n",
       "    .dataframe tbody tr th {\n",
       "        vertical-align: top;\n",
       "    }\n",
       "\n",
       "    .dataframe thead th {\n",
       "        text-align: right;\n",
       "    }\n",
       "</style>\n",
       "<table border=\"1\" class=\"dataframe\">\n",
       "  <thead>\n",
       "    <tr style=\"text-align: right;\">\n",
       "      <th></th>\n",
       "      <th>DayOfWeek</th>\n",
       "      <th>Flights</th>\n",
       "      <th>Flights_perc</th>\n",
       "      <th>Delay_perc</th>\n",
       "      <th>Delays</th>\n",
       "      <th>Delays_perc</th>\n",
       "    </tr>\n",
       "  </thead>\n",
       "  <tbody>\n",
       "    <tr>\n",
       "      <th>0</th>\n",
       "      <td>Friday</td>\n",
       "      <td>2072701</td>\n",
       "      <td>14.825586</td>\n",
       "      <td>8.179010</td>\n",
       "      <td>1143472</td>\n",
       "      <td>0.551682</td>\n",
       "    </tr>\n",
       "    <tr>\n",
       "      <th>1</th>\n",
       "      <td>Thursday</td>\n",
       "      <td>2064554</td>\n",
       "      <td>14.767312</td>\n",
       "      <td>7.961973</td>\n",
       "      <td>1113129</td>\n",
       "      <td>0.539162</td>\n",
       "    </tr>\n",
       "    <tr>\n",
       "      <th>2</th>\n",
       "      <td>Monday</td>\n",
       "      <td>2048953</td>\n",
       "      <td>14.655722</td>\n",
       "      <td>7.556611</td>\n",
       "      <td>1056457</td>\n",
       "      <td>0.515608</td>\n",
       "    </tr>\n",
       "    <tr>\n",
       "      <th>3</th>\n",
       "      <td>Wednesday</td>\n",
       "      <td>2034281</td>\n",
       "      <td>14.550776</td>\n",
       "      <td>7.248275</td>\n",
       "      <td>1013350</td>\n",
       "      <td>0.498137</td>\n",
       "    </tr>\n",
       "    <tr>\n",
       "      <th>4</th>\n",
       "      <td>Tuesday</td>\n",
       "      <td>2028319</td>\n",
       "      <td>14.508131</td>\n",
       "      <td>6.935785</td>\n",
       "      <td>969662</td>\n",
       "      <td>0.478062</td>\n",
       "    </tr>\n",
       "    <tr>\n",
       "      <th>5</th>\n",
       "      <td>Sunday</td>\n",
       "      <td>1943817</td>\n",
       "      <td>13.903706</td>\n",
       "      <td>7.062346</td>\n",
       "      <td>987356</td>\n",
       "      <td>0.507947</td>\n",
       "    </tr>\n",
       "    <tr>\n",
       "      <th>6</th>\n",
       "      <td>Saturday</td>\n",
       "      <td>1787942</td>\n",
       "      <td>12.788766</td>\n",
       "      <td>5.894289</td>\n",
       "      <td>824055</td>\n",
       "      <td>0.460896</td>\n",
       "    </tr>\n",
       "  </tbody>\n",
       "</table>\n",
       "</div>"
      ],
      "text/plain": [
       "   DayOfWeek  Flights  Flights_perc  Delay_perc   Delays  Delays_perc\n",
       "0     Friday  2072701     14.825586    8.179010  1143472     0.551682\n",
       "1   Thursday  2064554     14.767312    7.961973  1113129     0.539162\n",
       "2     Monday  2048953     14.655722    7.556611  1056457     0.515608\n",
       "3  Wednesday  2034281     14.550776    7.248275  1013350     0.498137\n",
       "4    Tuesday  2028319     14.508131    6.935785   969662     0.478062\n",
       "5     Sunday  1943817     13.903706    7.062346   987356     0.507947\n",
       "6   Saturday  1787942     12.788766    5.894289   824055     0.460896"
      ]
     },
     "execution_count": 15,
     "metadata": {},
     "output_type": "execute_result"
    }
   ],
   "source": [
    "# Create table data for flights\n",
    "total_day = data[['DayOfWeek', 'delay']].groupby('DayOfWeek').size().reset_index(name='Flights')\n",
    "total_day = total_day.sort_values('Flights', ascending=False)\n",
    "\n",
    "#Create columns in total_day data in Percentage\n",
    "total_day['Flights_perc'] = total_day['Flights'] / len(data) * 100\n",
    "\n",
    "# Create table data for delays\n",
    "total_day2 = data[['DayOfWeek', 'DepDelay', 'ArrDelay']]\n",
    "total_day2 = total_day2[(total_day2['DepDelay'] > 0) | (total_day2['ArrDelay'] > 0)]\n",
    "total_day2 = total_day2.groupby('DayOfWeek').size().reset_index(name='Delays')\n",
    "total_day2 = total_day2.sort_values('Delays', ascending=False)\n",
    "total_day2['Delay_perc'] = total_day2['Delays'] / len(data) * 100\n",
    "total_day2 = total_day2[['DayOfWeek', 'Delay_perc', 'Delays']]\n",
    "\n",
    "#Join the Data\n",
    "day_data = total_day.merge(total_day2, on='DayOfWeek', how='left')\n",
    "day_data['Delays_perc'] = day_data['Delays'] / day_data['Flights']\n",
    "day_data"
   ]
  },
  {
   "cell_type": "code",
   "execution_count": 16,
   "id": "61b4c7e0",
   "metadata": {},
   "outputs": [
    {
     "data": {
      "image/png": "[encoded data removed]",
      "text/plain": [
       "<Figure size 432x288 with 1 Axes>"
      ]
     },
     "metadata": {},
     "output_type": "display_data"
    }
   ],
   "source": [
    "#Plot the graph\n",
    "day_data_plot = day_data[['DayOfWeek', 'Delays_perc']].groupby('DayOfWeek').mean().reset_index()\n",
    "day_data_plot = day_data_plot.sort_values(by='Delays_perc')\n",
    "\n",
    "sns.set_style('whitegrid')\n",
    "sns.barplot(x='DayOfWeek', y='Delays_perc', data=day_data_plot)\n",
    "plt.xlabel('Day of Week')\n",
    "plt.ylabel('Percentage')\n",
    "plt.title('Avg Delay of Weekdays (%)')\n",
    "plt.xticks(rotation=35, ha='right')\n",
    "plt.show()"
   ]
  },
  {
   "cell_type": "markdown",
   "id": "69d74db2",
   "metadata": {},
   "source": [
    "# 1b. When is the best time of day to fly to minimise delays?"
   ]
  },
  {
   "cell_type": "code",
   "execution_count": 17,
   "id": "ba7b453d",
   "metadata": {},
   "outputs": [
    {
     "name": "stdout",
     "output_type": "stream",
     "text": [
      "          DepDelay dep_time_bin  ArrDelay arr_time_bin\n",
      "0             -7.0  before noon     -14.0  before noon\n",
      "1             -9.0  before noon      -4.0  before noon\n",
      "2              3.0  before noon       5.0  before noon\n",
      "3             -3.0  before noon     -16.0  before noon\n",
      "4              5.0  before noon       3.0  before noon\n",
      "...            ...          ...       ...          ...\n",
      "13980562      -3.0    afternoon     -22.0      evening\n",
      "13980563       0.0      evening      10.0      evening\n",
      "13980564      -4.0    afternoon      -8.0    afternoon\n",
      "13980565      -1.0  before noon     -15.0  before noon\n",
      "13980566       1.0    afternoon       7.0    afternoon\n",
      "\n",
      "[13980567 rows x 4 columns]\n",
      "  arr_time_bin    count\n",
      "2    afternoon  5259969\n",
      "3      evening  4568401\n",
      "1  before noon  3824823\n",
      "0        night   315128\n",
      "  dep_time_bin    count\n",
      "1  before noon  5307239\n",
      "2    afternoon  5260805\n",
      "3      evening  3077354\n",
      "0        night   322923\n"
     ]
    }
   ],
   "source": [
    "# Create time of day bin categories\n",
    "categories=['night', 'before noon', 'afternoon', 'evening']\n",
    "data['arr_time_bin'] = pd.cut(data['ArrTime'], bins=range(0, 2500, 600), labels=categories)\n",
    "data['dep_time_bin'] = pd.cut(data['DepTime'], bins=range(0, 2500, 600), labels=categories)\n",
    "\n",
    "# Create time of Day data\n",
    "day_time = data[['DepDelay', 'dep_time_bin', 'ArrDelay', 'arr_time_bin']]\n",
    "print(day_time)\n",
    "\n",
    "# Drop the missing values we found above.\n",
    "day_time = day_time.dropna()\n",
    "\n",
    "# Create total data's\n",
    "total_arr = day_time.groupby('arr_time_bin')['DepDelay'].count().reset_index(name='count').sort_values(by='count', ascending=False)\n",
    "print(total_arr)\n",
    "\n",
    "total_dep = day_time.groupby('dep_time_bin')['DepDelay'].count().reset_index(name='count').sort_values(by='count', ascending=False)\n",
    "print(total_dep)"
   ]
  },
  {
   "cell_type": "code",
   "execution_count": 18,
   "id": "c481bdc9",
   "metadata": {},
   "outputs": [
    {
     "name": "stdout",
     "output_type": "stream",
     "text": [
      "  arr_time_bin   ArrDelay\n",
      "0        night  45.759253\n",
      "1  before noon  -0.916200\n",
      "2    afternoon   4.303569\n",
      "3      evening  13.436362\n",
      "  dep_time_bin   DepDelay\n",
      "0        night   8.306603\n",
      "1  before noon   2.222681\n",
      "2    afternoon   8.175516\n",
      "3      evening  18.562304\n"
     ]
    }
   ],
   "source": [
    "# Create Data's for mean\n",
    "mean_time_arr = day_time.groupby('arr_time_bin').agg({'ArrDelay': 'mean'}).reset_index()\n",
    "print(mean_time_arr)\n",
    "\n",
    "mean_time_dep = day_time.groupby('dep_time_bin').agg({'DepDelay': 'mean'}).reset_index()\n",
    "print(mean_time_dep)"
   ]
  },
  {
   "cell_type": "code",
   "execution_count": 19,
   "id": "b01ca461",
   "metadata": {},
   "outputs": [
    {
     "name": "stdout",
     "output_type": "stream",
     "text": [
      "   time_of_day   arr_mean   dep_mean  avg_delay_day  total_delay_day\n",
      "1  before noon  -0.916200   2.222681       1.306481         1.306481\n",
      "2    afternoon   4.303569   8.175516      12.479085        12.479085\n",
      "3      evening  13.436362  18.562304      31.998665        31.998665\n",
      "0        night  45.759253   8.306603      54.065856        54.065856\n"
     ]
    }
   ],
   "source": [
    "# Time of day column with arr_time_bin & dep_time_bin as variables\n",
    "mean_time_arr = mean_time_arr.rename(columns={'arr_time_bin': 'time_of_day', 'ArrDelay': 'arr_mean'})\n",
    "mean_time_dep = mean_time_dep.rename(columns={'dep_time_bin': 'time_of_day', 'DepDelay': 'dep_mean'})\n",
    "\n",
    "data_arr = pd.DataFrame(mean_time_arr)\n",
    "data_arr = data_arr.set_index('time_of_day')\n",
    "\n",
    "data_dep = pd.DataFrame(mean_time_dep)\n",
    "data_dep = data_dep.set_index('time_of_day')\n",
    "\n",
    "# Mean\n",
    "mean_time_dep = data_arr.join(data_dep, how='outer')\n",
    "mean_time_dep['avg_delay_day'] = mean_time_dep['arr_mean'] + mean_time_dep['dep_mean']\n",
    "mean_time_dep['total_delay_day'] = mean_time_dep['avg_delay_day']\n",
    "\n",
    "# Group arrange\n",
    "mean_time_day = mean_time_dep.reset_index().sort_values(by=['avg_delay_day'])\n",
    "print(mean_time_day)"
   ]
  },
  {
   "cell_type": "code",
   "execution_count": 20,
   "id": "55eda7f2",
   "metadata": {},
   "outputs": [],
   "source": [
    "#Create total data's\n",
    "total_arr = day_time.groupby('arr_time_bin').size().reset_index(name='Flights').sort_values('Flights', ascending=False)\n",
    "total_dep = day_time.groupby('dep_time_bin').size().reset_index(name='Flights').sort_values('Flights', ascending=False)\n",
    "\n",
    "# Join\n",
    "tot_time_day = pd.merge(total_dep, total_arr, left_on='dep_time_bin', right_on='arr_time_bin', how='outer')\n",
    "tot_time_day['TimeofDay'] = tot_time_day['dep_time_bin'].fillna(tot_time_day['arr_time_bin'])\n",
    "tot_time_day.drop(['dep_time_bin', 'arr_time_bin'], axis=1, inplace=True)\n",
    "tot_time_day['Flights'] = tot_time_day['Flights_x'].fillna(0) + tot_time_day['Flights_y'].fillna(0)\n",
    "tot_time_day.drop(['Flights_x', 'Flights_y'], axis=1, inplace=True)\n",
    "\n",
    "# Data Dep Delays columns\n",
    "dep2_time_day = day_time[day_time['DepDelay'] > 0]\n",
    "dep2_time_day = dep2_time_day.groupby('dep_time_bin').size().reset_index(name='Delays').sort_values('Delays', ascending=False)\n",
    "\n",
    "# Data Arr delays columns\n",
    "arr2_time_day = day_time[day_time['ArrDelay'] > 0]\n",
    "arr2_time_day = arr2_time_day.groupby('arr_time_bin').size().reset_index(name='Delays').sort_values('Delays', ascending=False)\n",
    "\n",
    "# Join\n",
    "tot2_time_day = pd.merge(dep2_time_day, arr2_time_day, left_on='dep_time_bin', right_on='arr_time_bin', how='outer')\n",
    "tot2_time_day['TimeofDay'] = tot2_time_day['dep_time_bin'].fillna(tot2_time_day['arr_time_bin'])\n",
    "tot2_time_day.drop(['dep_time_bin', 'arr_time_bin'], axis=1, inplace=True)\n",
    "tot2_time_day['Delays'] = tot2_time_day['Delays_x'].fillna(0) + tot2_time_day['Delays_y'].fillna(0)\n",
    "tot2_time_day.drop(['Delays_x', 'Delays_y'], axis=1, inplace=True)\n",
    "\n",
    "# Final join and show table\n",
    "tot3_time_day = pd.merge(tot_time_day, tot2_time_day, left_on='TimeofDay', right_on='TimeofDay', how='outer')\n",
    "tot3_time_day['Delays_perc'] = tot3_time_day['Delays'] / tot3_time_day['Flights']\n",
    "tot3_time_day = tot3_time_day[['TimeofDay', 'Flights', 'Delays', 'Delays_perc']]\n"
   ]
  },
  {
   "cell_type": "code",
   "execution_count": 21,
   "id": "0b8c035c",
   "metadata": {},
   "outputs": [
    {
     "data": {
      "image/png": "[encoded data removed]",
      "text/plain": [
       "<Figure size 432x288 with 1 Axes>"
      ]
     },
     "metadata": {},
     "output_type": "display_data"
    }
   ],
   "source": [
    "# select columns and arrange by Delays_perc\n",
    "plot_tot3_time_day = tot3_time_day[['TimeofDay', 'Delays_perc']].sort_values('Delays_perc')\n",
    "\n",
    "# plot the graph\n",
    "sns.barplot(x='TimeofDay', y='Delays_perc', data=plot_tot3_time_day, palette='rocket')\n",
    "plt.title('Delays Percentage by Time of Day')\n",
    "plt.xlabel('Time of Day')\n",
    "plt.ylabel('Percentage')\n",
    "plt.xticks(rotation=35, ha='right')\n",
    "plt.show()"
   ]
  },
  {
   "cell_type": "markdown",
   "id": "f1cbd6b6",
   "metadata": {},
   "source": [
    "# 1c. When is the best time of year to fly to minimise delays?"
   ]
  },
  {
   "cell_type": "code",
   "execution_count": 22,
   "id": "d3c5e598",
   "metadata": {},
   "outputs": [],
   "source": [
    "# Mean\n",
    "# Create Data with columns of interest\n",
    "mean_month = data[['Month', 'DepDelay', 'ArrDelay']]\n",
    "mean_month = mean_month.groupby('Month').agg(Dep_del=('DepDelay', 'mean'), Arr_del=('ArrDelay', 'mean')).reset_index()\n",
    "\n",
    "# Average columns\n",
    "mean_month['avg_delay_day'] = (mean_month['Dep_del'] + mean_month['Arr_del']) / 2  # avg. column\n",
    "mean_month['tot_avg_delay_day'] = mean_month['Dep_del'] + mean_month['Arr_del']  # tot column\n",
    "\n",
    "# Group and Arrange\n",
    "mean_month = mean_month.groupby('avg_delay_day').apply(lambda x: x.sort_values('avg_delay_day')).reset_index(drop=True)"
   ]
  },
  {
   "cell_type": "code",
   "execution_count": 23,
   "id": "9868efe6",
   "metadata": {},
   "outputs": [],
   "source": [
    "# Create Data for flight total\n",
    "tot_month = data[['Month_name', 'delay']]\n",
    "tot_month = tot_month.groupby('Month_name').size().reset_index(name='Flights').sort_values(by='Flights', ascending=False)\n",
    "\n",
    "tot_month['Flights_perc'] = (tot_month['Flights'] / 13980567) * 100\n",
    "\n",
    "# Create data for delays\n",
    "tot2_month = data[['Month_name', 'DepDelay', 'ArrDelay']]\n",
    "tot2_month = tot2_month[(tot2_month['DepDelay'] > 0) | (tot2_month['ArrDelay'] > 0)]\n",
    "tot2_month = tot2_month.groupby('Month_name').size().reset_index(name='Delays').sort_values(by='Delays', ascending=False)\n",
    "\n",
    "# Join\n",
    "tot3_month = tot_month.merge(tot2_month, on='Month_name', how='left')\n",
    "tot3_month['Delays_perc'] = tot3_month['Delays'] / tot3_month['Flights']\n",
    "tot3_month = tot3_month.sort_values('Delays_perc').reset_index(drop=True)\n"
   ]
  },
  {
   "cell_type": "code",
   "execution_count": 24,
   "id": "06defa58",
   "metadata": {},
   "outputs": [
    {
     "data": {
      "image/png": "[encoded data removed]",
      "text/plain": [
       "<Figure size 432x288 with 1 Axes>"
      ]
     },
     "metadata": {},
     "output_type": "display_data"
    }
   ],
   "source": [
    "# group and arrange data\n",
    "plot_tot3_time_month = tot3_month.sort_values(by=['Delays_perc'])\n",
    "\n",
    "# create pie chart\n",
    "fig, ax = plt.subplots()\n",
    "ax.pie(plot_tot3_time_month['Delays_perc'], labels=plot_tot3_time_month['Month_name'], autopct='%1.1f%%')\n",
    "ax.set_title('Delays Percentage by Month of Year')\n",
    "\n",
    "plt.show()"
   ]
  }
 ],
 "metadata": {
  "kernelspec": {
   "display_name": "Python 3 (ipykernel)",
   "language": "python",
   "name": "python3"
  },
  "language_info": {
   "codemirror_mode": {
    "name": "ipython",
    "version": 3
   },
   "file_extension": ".py",
   "mimetype": "text/x-python",
   "name": "python",
   "nbconvert_exporter": "python",
   "pygments_lexer": "ipython3",
   "version": "3.9.12"
  }
 },
 "nbformat": 4,
 "nbformat_minor": 5
}
