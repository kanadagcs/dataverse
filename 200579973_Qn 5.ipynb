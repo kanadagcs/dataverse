{
 "cells": [
  {
   "cell_type": "markdown",
   "id": "989e607e",
   "metadata": {},
   "source": [
    "# 5. Use the available variables to construct a model that predicts delays."
   ]
  },
  {
   "cell_type": "code",
   "execution_count": 1,
   "id": "f0fc387f",
   "metadata": {},
   "outputs": [
    {
     "data": {
      "text/plain": [
       "'/Users/sugianto/Desktop/dataverse_files'"
      ]
     },
     "execution_count": 1,
     "metadata": {},
     "output_type": "execute_result"
    }
   ],
   "source": [
    "# Set working directory that contains the files\n",
    "import os\n",
    "os.chdir(\"/Users/sugianto/Desktop/dataverse_files\")\n",
    "os.getcwd()"
   ]
  },
  {
   "cell_type": "code",
   "execution_count": 2,
   "id": "05f98ed7",
   "metadata": {},
   "outputs": [],
   "source": [
    "# Load the necessary libraries\n",
    "import pandas as pd\n",
    "import numpy as np\n",
    "import seaborn as sns\n",
    "import matplotlib.pyplot as plt\n",
    "from sklearn.model_selection import train_test_split\n",
    "from sklearn.metrics import accuracy_score, confusion_matrix\n",
    "from sklearn.linear_model import LinearRegression\n",
    "from sklearn.metrics import mean_squared_error\n",
    "from sklearn.tree import DecisionTreeClassifier\n",
    "from sklearn.metrics import roc_auc_score"
   ]
  },
  {
   "cell_type": "code",
   "execution_count": 3,
   "id": "01b4a458",
   "metadata": {},
   "outputs": [],
   "source": [
    "#Read variables\n",
    "airports = pd.read_csv(\"airports.csv\")\n",
    "carriers = pd.read_csv(\"carriers.csv\")\n",
    "airplanes = pd.read_csv(\"plane-data.csv\")\n",
    "\n",
    "#read data\n",
    "data1 = pd.read_csv(\"2004.csv\") #import data for year 2004\n",
    "data2 = pd.read_csv(\"2005.csv\") #import data for year 2005"
   ]
  },
  {
   "cell_type": "code",
   "execution_count": 4,
   "id": "820120a8",
   "metadata": {},
   "outputs": [],
   "source": [
    "#Datas without cancelled and diverted flights.\n",
    "data1 = data1[(data1.Cancelled == 0) & (data1.Diverted == 0)]\n",
    "data2 = data2[(data2.Cancelled == 0) & (data2.Diverted == 0)]"
   ]
  },
  {
   "cell_type": "code",
   "execution_count": 5,
   "id": "682fac54",
   "metadata": {},
   "outputs": [
    {
     "data": {
      "text/plain": [
       "delay\n",
       "-5.0       471931\n",
       " 0.0       424551\n",
       "-10.0      417221\n",
       "-7.0       367288\n",
       "-8.0       356495\n",
       "            ...  \n",
       " 1480.0         1\n",
       " 1481.0         1\n",
       " 1488.0         1\n",
       " 1494.0         1\n",
       " 3855.0         1\n",
       "Length: 2297, dtype: int64"
      ]
     },
     "execution_count": 5,
     "metadata": {},
     "output_type": "execute_result"
    }
   ],
   "source": [
    "# perform full join on data1 and data2\n",
    "data = pd.merge(data1, data2, how='outer')\n",
    "\n",
    "#Create delay column\n",
    "data['delay'] = data['ArrDelay'] + data['DepDelay']\n",
    "data.value_counts('delay')"
   ]
  },
  {
   "cell_type": "code",
   "execution_count": 6,
   "id": "b160ae87",
   "metadata": {},
   "outputs": [],
   "source": [
    "#1st model is Linear Regression\n",
    "#take a sample of the data (due to computational limitations)\n",
    "data=data.sample(50000)\n",
    "\n",
    "# Subset the data for the variables you want to use\n",
    "data_subset = data[['delay', 'Distance']]\n",
    "\n",
    "# Use the available variables to construct a model that predicts delays.\n",
    "model = LinearRegression().fit(data_subset[['Distance']], data_subset['delay'])\n",
    "\n",
    "# Use the available variables to construct a model that predicts delays.\n",
    "X = data_subset['Distance'].values.reshape(-1, 1)\n",
    "y = data_subset['delay'].values.reshape(-1, 1)\n",
    "model = LinearRegression().fit(X, y)\n",
    "\n",
    "# Subset data for test set\n",
    "np.random.seed(123)\n",
    "test_indices = np.random.choice(data_subset.index, size=50000, replace=False)\n",
    "test_data = data_subset.loc[test_indices]\n",
    "\n",
    "# Predictions on test set\n",
    "test_X = test_data['Distance'].values.reshape(-1, 1)\n",
    "predictions = model.predict(test_X)"
   ]
  },
  {
   "cell_type": "code",
   "execution_count": 7,
   "id": "407fe8b6",
   "metadata": {},
   "outputs": [],
   "source": [
    "# Subset data for test set\n",
    "np.random.seed(123)\n",
    "test_indices = np.random.choice(data_subset.index, size=50000, replace=False)\n",
    "test_data = data_subset.loc[test_indices]\n",
    "\n",
    "# Predictions on test set\n",
    "test_X = test_data['Distance'].values.reshape(-1, 1)\n",
    "predictions = model.predict(test_X)"
   ]
  },
  {
   "cell_type": "code",
   "execution_count": 8,
   "id": "3cd6a1ee",
   "metadata": {},
   "outputs": [
    {
     "name": "stdout",
     "output_type": "stream",
     "text": [
      "RMSE: 61.72662225382683\n"
     ]
    }
   ],
   "source": [
    "# Calculate RMSE\n",
    "rmse = np.sqrt(mean_squared_error(test_data['delay'], predictions))\n",
    "print(\"RMSE:\", rmse)"
   ]
  },
  {
   "cell_type": "code",
   "execution_count": null,
   "id": "0054dee8",
   "metadata": {},
   "outputs": [],
   "source": [
    "# Calculate accuracy within certain threshold (e.g., 10 minutes)\n",
    "threshold = 10\n",
    "accuracy = np.mean(np.abs(test_data['delay'] - predictions) <= threshold)\n",
    "print(\"Accuracy within\", threshold, \"minutes:\", accuracy)"
   ]
  },
  {
   "cell_type": "code",
   "execution_count": null,
   "id": "6c22a4c1",
   "metadata": {},
   "outputs": [],
   "source": [
    "# Plot the data points\n",
    "plt.scatter(test_data['Distance'], test_data['delay'], alpha=0.2)\n",
    "\n",
    "# Plot the linear regression line\n",
    "plt.plot(test_X, predictions, color='red')\n",
    "\n",
    "# Add title and labels\n",
    "plt.title('Linear Regression of delay vs. Distance')\n",
    "plt.xlabel('Distance (miles)')\n",
    "plt.ylabel('Delay (minutes)')\n",
    "\n",
    "# Show the plot\n",
    "plt.show()"
   ]
  }
 ],
 "metadata": {
  "kernelspec": {
   "display_name": "Python 3 (ipykernel)",
   "language": "python",
   "name": "python3"
  },
  "language_info": {
   "codemirror_mode": {
    "name": "ipython",
    "version": 3
   },
   "file_extension": ".py",
   "mimetype": "text/x-python",
   "name": "python",
   "nbconvert_exporter": "python",
   "pygments_lexer": "ipython3",
   "version": "3.9.12"
  }
 },
 "nbformat": 4,
 "nbformat_minor": 5
}
